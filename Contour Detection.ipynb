{
 "cells": [
  {
   "cell_type": "code",
   "execution_count": 2,
   "metadata": {},
   "outputs": [
    {
     "data": {
      "text/plain": [
       "-1"
      ]
     },
     "execution_count": 2,
     "metadata": {},
     "output_type": "execute_result"
    }
   ],
   "source": [
    "import cv2\n",
    "import numpy as np\n",
    "\n",
    "contour_one = cv2.imread('C:\\\\Users\\\\Zahid\\\\Desktop\\\\Deep Learning\\\\openCVtutorials\\\\square-01.png', 0) #Reference image contour\n",
    "cv2.imshow(\"Contour Tempalte\", contour_one)\n",
    "cv2.waitKey()"
   ]
  },
  {
   "cell_type": "code",
   "execution_count": 33,
   "metadata": {},
   "outputs": [
    {
     "name": "stdout",
     "output_type": "stream",
     "text": [
      "1\n",
      "0.3767457291322354\n",
      "0.39325765426692477\n",
      "0.37723717269282037\n",
      "0.3151969672568337\n"
     ]
    }
   ],
   "source": [
    "#target image to identify similar to reference image\n",
    "targer = cv2.imread('C:\\\\Users\\\\Zahid\\\\Desktop\\\\Deep Learning\\\\openCVtutorials\\\\input3.png')\n",
    "target_gray = cv2.cvtColor(targer , cv2.COLOR_BGR2GRAY)\n",
    "cv2.imshow('Target Image',target_gray)\n",
    "cv2.waitKey()\n",
    "\n",
    "#Threshold both images \n",
    "ret , thres1  = cv2.threshold(contour_one , 127 , 255 , 0)\n",
    "ret , thres2 = cv2.threshold(target_gray , 127 , 255 , 0)\n",
    "\n",
    "contours , hierarchy = cv2.findContours(thres1 , cv2.RETR_CCOMP , cv2.CHAIN_APPROX_SIMPLE)\n",
    "\n",
    "sorted_contours = sorted(contours , key = cv2.contourArea , reverse = True)\n",
    "print(len(contours))\n",
    "template_contour = contours[0]\n",
    "\n",
    "contours , heirarchy = cv2.findContours(thres2 , cv2.RETR_CCOMP , cv2.CHAIN_APPROX_SIMPLE)\n",
    "\n",
    "for c in contours:\n",
    "    #iterate through each contour in image and use cv2.matchShapes to compare\n",
    "    match = cv2.matchShapes(template_contour , c , 2 , 0.0)\n",
    "    print(match)\n",
    "    if match < 0.32:\n",
    "        closest_contour = c\n",
    "        break\n",
    "    else:\n",
    "        closest_contour = []\n",
    "\n",
    "cv2.drawContours(targer , [closest_contour] , -1 , ( 0,255,0) , 3)\n",
    "cv2.imshow('Output' , targer)\n",
    "cv2.waitKey()\n",
    "cv2.destroyAllWindows()\n",
    "        "
   ]
  },
  {
   "cell_type": "code",
   "execution_count": null,
   "metadata": {},
   "outputs": [],
   "source": []
  }
 ],
 "metadata": {
  "kernelspec": {
   "display_name": "Python 3",
   "language": "python",
   "name": "python3"
  },
  "language_info": {
   "codemirror_mode": {
    "name": "ipython",
    "version": 3
   },
   "file_extension": ".py",
   "mimetype": "text/x-python",
   "name": "python",
   "nbconvert_exporter": "python",
   "pygments_lexer": "ipython3",
   "version": "3.7.1"
  }
 },
 "nbformat": 4,
 "nbformat_minor": 2
}
